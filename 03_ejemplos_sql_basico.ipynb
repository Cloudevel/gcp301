{
 "cells": [
  {
   "cell_type": "markdown",
   "metadata": {},
   "source": [
    "[![pythonista](img/pythonista.png)](https://www.pythonista.io)"
   ]
  },
  {
   "cell_type": "markdown",
   "metadata": {},
   "source": [
    "# Ejemplos de *DQL*."
   ]
  },
  {
   "cell_type": "markdown",
   "metadata": {},
   "source": [
    "https://console.cloud.google.com/bigquery"
   ]
  },
  {
   "cell_type": "markdown",
   "metadata": {},
   "source": [
    "Se utilizará el data set [*Chicago Taxi Trips*](https://www.kaggle.com/datasets/chicago/chicago-taxi-trips-bq)"
   ]
  },
  {
   "cell_type": "markdown",
   "metadata": {},
   "source": [
    "``` sql\n",
    "#StandardSQL\n",
    "SELECT *\n",
    "FROM\n",
    "  `bigquery-public-data.chicago_taxi_trips.taxi_trips`;\n",
    "```"
   ]
  },
  {
   "cell_type": "markdown",
   "metadata": {},
   "source": [
    "``` sql\n",
    "#StandardSQL\n",
    "SELECT *\n",
    "FROM\n",
    "  `bigquery-public-data.chicago_taxi_trips.taxi_trips`\n",
    "LIMIT 1000;\n",
    "```"
   ]
  },
  {
   "cell_type": "markdown",
   "metadata": {},
   "source": [
    "```SQL\n",
    "#StandardSQL\n",
    "SELECT unique_key AS id, \n",
    "trip_start_timestamp AS inicio, \n",
    "trip_start_timestamp AS fin,\n",
    "company,\n",
    "trip_total\n",
    "FROM\n",
    "  `bigquery-public-data.chicago_taxi_trips.taxi_trips`\n",
    "LIMIT 1000;\n",
    "```"
   ]
  },
  {
   "cell_type": "markdown",
   "metadata": {},
   "source": [
    "```SQL\n",
    "#StandardSQL\n",
    "SELECT unique_key AS id, \n",
    "trip_start_timestamp AS inicio, \n",
    "trip_start_timestamp AS fin,\n",
    "company,\n",
    "trip_total\n",
    "FROM\n",
    "  `bigquery-public-data.chicago_taxi_trips.taxi_trips`\n",
    "  WHERE trip_total > 10\n",
    "LIMIT 1000;\n",
    "```"
   ]
  },
  {
   "cell_type": "markdown",
   "metadata": {},
   "source": [
    "```SQL\n",
    "#StandardSQL\n",
    "SELECT unique_key AS id, \n",
    "trip_start_timestamp AS inicio, \n",
    "trip_start_timestamp AS fin,\n",
    "company,\n",
    "trip_total\n",
    "FROM\n",
    "  `bigquery-public-data.chicago_taxi_trips.taxi_trips`\n",
    "  WHERE trip_total > 10\n",
    "  ORDER BY company\n",
    "LIMIT 1000;\n",
    "```"
   ]
  },
  {
   "cell_type": "markdown",
   "metadata": {},
   "source": [
    "```SQL\n",
    "#StandardSQL\n",
    "SELECT unique_key AS id, \n",
    "trip_start_timestamp AS inicio, \n",
    "trip_start_timestamp AS fin,\n",
    "company,\n",
    "trip_total\n",
    "FROM\n",
    "  `bigquery-public-data.chicago_taxi_trips.taxi_trips`\n",
    "  WHERE trip_total > 10 AND company IS NOT NULL\n",
    "  ORDER BY company\n",
    "LIMIT 1000;\n",
    "```"
   ]
  },
  {
   "cell_type": "markdown",
   "metadata": {},
   "source": [
    "```SQL\n",
    "#StandardSQL\n",
    "SELECT unique_key AS id, \n",
    "trip_start_timestamp AS inicio, \n",
    "trip_start_timestamp AS fin,\n",
    "company,\n",
    "trip_total\n",
    "FROM\n",
    "  `bigquery-public-data.chicago_taxi_trips.taxi_trips`\n",
    "  WHERE trip_total > 10 AND company IS NOT NULL\n",
    "  ORDER BY company DESC\n",
    "LIMIT 1000;\n",
    "```"
   ]
  },
  {
   "cell_type": "markdown",
   "metadata": {},
   "source": [
    "* https://cloud.google.com/bigquery/docs/reference/standard-sql/date_functions#extract"
   ]
  },
  {
   "cell_type": "markdown",
   "metadata": {},
   "source": [
    "```sql\n",
    "#StandardSQL\n",
    "SELECT unique_key AS id, \n",
    "trip_start_timestamp AS inicio, \n",
    "trip_start_timestamp AS fin,\n",
    "company,\n",
    "trip_total\n",
    "FROM\n",
    "  `bigquery-public-data.chicago_taxi_trips.taxi_trips`\n",
    "  WHERE trip_total > 500 AND \n",
    "  company IS NOT NULL AND \n",
    "  EXTRACT(YEAR FROM\n",
    "    trip_start_timestamp) = 2017\n",
    "  ORDER BY company DESC, inicio;\n",
    "```"
   ]
  },
  {
   "cell_type": "markdown",
   "metadata": {},
   "source": [
    "<p style=\"text-align: center\"><a rel=\"license\" href=\"http://creativecommons.org/licenses/by/4.0/\"><img alt=\"Licencia Creative Commons\" style=\"border-width:0\" src=\"https://i.creativecommons.org/l/by/4.0/80x15.png\" /></a><br />Esta obra está bajo una <a rel=\"license\" href=\"http://creativecommons.org/licenses/by/4.0/\">Licencia Creative Commons Atribución 4.0 Internacional</a>.</p>\n",
    "<p style=\"text-align: center\">&copy; José Luis Chiquete Valdivieso. 2022.</p>"
   ]
  }
 ],
 "metadata": {
  "kernelspec": {
   "display_name": "Python 3 (ipykernel)",
   "language": "python",
   "name": "python3"
  },
  "language_info": {
   "codemirror_mode": {
    "name": "ipython",
    "version": 3
   },
   "file_extension": ".py",
   "mimetype": "text/x-python",
   "name": "python",
   "nbconvert_exporter": "python",
   "pygments_lexer": "ipython3",
   "version": "3.9.7"
  }
 },
 "nbformat": 4,
 "nbformat_minor": 2
}
