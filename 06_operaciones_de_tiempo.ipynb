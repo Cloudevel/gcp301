{
 "cells": [
  {
   "cell_type": "markdown",
   "metadata": {},
   "source": [
    "[![pythonista](img/pythonista.png)](https://www.pythonista.io)"
   ]
  },
  {
   "cell_type": "markdown",
   "metadata": {},
   "source": [
    "# Operaciones con datos temporales."
   ]
  },
  {
   "cell_type": "markdown",
   "metadata": {},
   "source": [
    "### Reglas de conversión.\n",
    "\n",
    "https://cloud.google.com/bigquery/docs/reference/standard-sql/conversion_rules"
   ]
  },
  {
   "cell_type": "markdown",
   "metadata": {},
   "source": [
    "## Tipos de tiempo."
   ]
  },
  {
   "cell_type": "markdown",
   "metadata": {},
   "source": [
    "* [```DATE```](https://cloud.google.com/bigquery/docs/reference/standard-sql/data-types#date_type).\n",
    "* [```DATETIME```](https://cloud.google.com/bigquery/docs/reference/standard-sql/data-types#datetime_type)\n",
    "* [```INTERVAL```](https://cloud.google.com/bigquery/docs/reference/standard-sql/data-types#interval_type)\n",
    "* [```TIMESTAMP```](https://cloud.google.com/bigquery/docs/reference/standard-sql/data-types#timestamp_type)"
   ]
  },
  {
   "cell_type": "markdown",
   "metadata": {},
   "source": [
    "## Funciones de tiempo."
   ]
  },
  {
   "cell_type": "markdown",
   "metadata": {},
   "source": [
    "https://cloud.google.com/bigquery/docs/reference/standard-sql/date_functions"
   ]
  },
  {
   "cell_type": "markdown",
   "metadata": {},
   "source": [
    "### La función ```EXTRACT()```."
   ]
  },
  {
   "cell_type": "markdown",
   "metadata": {},
   "source": [
    "https://cloud.google.com/bigquery/docs/reference/standard-sql/date_functions#extract"
   ]
  },
  {
   "cell_type": "markdown",
   "metadata": {},
   "source": [
    "``` SQL\n",
    "SELECT index,\n",
    " EXTRACT(DAYOFWEEK FROM index) as dia_semana,\n",
    " EXTRACT(ISOWEEK FROM index) as semana,\n",
    " EXTRACT(DAY FROM index) as dia,\n",
    " EXTRACT(MONTH FROM index) as mes,\n",
    " EXTRACT(YEAR FROM index) as year\n",
    "FROM `bigquery-demo-349123.demo.covid-parquet`\n",
    "ORDER BY index;\n",
    "```"
   ]
  },
  {
   "cell_type": "markdown",
   "metadata": {},
   "source": [
    "## El operador ```BETWEEN```."
   ]
  },
  {
   "cell_type": "markdown",
   "metadata": {},
   "source": [
    "``` SQL\n",
    "SELECT index, Nacional\n",
    "FROM `bigquery-demo-349123.demo.covid-parquet`\n",
    "WHERE index BETWEEN TIMESTAMP('2022-01-01') AND TIMESTAMP('2022-12-31')\n",
    "ORDER BY index;\n",
    "```"
   ]
  },
  {
   "cell_type": "markdown",
   "metadata": {},
   "source": [
    "## Ejemplo con ```AVG()```, ```WITH``` y ```UNION```."
   ]
  },
  {
   "cell_type": "markdown",
   "metadata": {},
   "source": [
    "* La cláusula [```WITH```](https://cloud.google.com/bigquery/docs/reference/standard-sql/query-syntax#sql_syntax)\n",
    "* El operador [```UNION```](https://cloud.google.com/bigquery/docs/reference/standard-sql/query-syntax#union_example)\n",
    "* La función [```AVG()```](https://cloud.google.com/bigquery/docs/reference/standard-sql/aggregate_functions#avg)"
   ]
  },
  {
   "cell_type": "markdown",
   "metadata": {},
   "source": [
    "``` SQL\n",
    "WITH promedios AS\n",
    " (SELECT 2020 as Anio, ROUND(AVG(Nacional), 2) as promedio \n",
    "  FROM `bigquery-demo-349123.demo.covid-parquet`\n",
    "  WHERE index BETWEEN TIMESTAMP('2020-01-01') AND TIMESTAMP('2020-12-31')\n",
    "  UNION ALL\n",
    "  SELECT 2021, ROUND(AVG(Nacional), 2)\n",
    "  FROM `bigquery-demo-349123.demo.covid-parquet`\n",
    "  WHERE index BETWEEN TIMESTAMP('2021-01-01') AND TIMESTAMP('2021-12-31')\n",
    "  UNION ALL\n",
    "  SELECT 2022, ROUND(AVG(Nacional), 2)\n",
    "  FROM `bigquery-demo-349123.demo.covid-parquet`\n",
    "  WHERE index BETWEEN TIMESTAMP('2022-01-01') AND TIMESTAMP('2022-12-31'))\n",
    "SELECT * FROM promedios\n",
    "ORDER BY anio;\n",
    "\n",
    "```"
   ]
  },
  {
   "cell_type": "markdown",
   "metadata": {},
   "source": [
    "<p style=\"text-align: center\"><a rel=\"license\" href=\"http://creativecommons.org/licenses/by/4.0/\"><img alt=\"Licencia Creative Commons\" style=\"border-width:0\" src=\"https://i.creativecommons.org/l/by/4.0/80x15.png\" /></a><br />Esta obra está bajo una <a rel=\"license\" href=\"http://creativecommons.org/licenses/by/4.0/\">Licencia Creative Commons Atribución 4.0 Internacional</a>.</p>\n",
    "<p style=\"text-align: center\">&copy; José Luis Chiquete Valdivieso. 2022.</p>"
   ]
  }
 ],
 "metadata": {
  "kernelspec": {
   "display_name": "Python 3 (ipykernel)",
   "language": "python",
   "name": "python3"
  },
  "language_info": {
   "codemirror_mode": {
    "name": "ipython",
    "version": 3
   },
   "file_extension": ".py",
   "mimetype": "text/x-python",
   "name": "python",
   "nbconvert_exporter": "python",
   "pygments_lexer": "ipython3",
   "version": "3.10.4"
  }
 },
 "nbformat": 4,
 "nbformat_minor": 2
}
