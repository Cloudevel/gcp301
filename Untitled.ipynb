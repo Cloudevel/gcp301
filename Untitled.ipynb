{
 "cells": [
  {
   "cell_type": "markdown",
   "id": "6b2bdac7",
   "metadata": {},
   "source": [
    "## Origen de los datos."
   ]
  },
  {
   "cell_type": "markdown",
   "id": "60f33e66",
   "metadata": {},
   "source": [
    "### Covid-19 México.\n",
    "\n",
    "https://datos.covid-19.conacyt.mx/#DownZCSV"
   ]
  },
  {
   "cell_type": "code",
   "execution_count": null,
   "id": "2f48ea28",
   "metadata": {},
   "outputs": [],
   "source": [
    "!pip install pandas"
   ]
  },
  {
   "cell_type": "code",
   "execution_count": null,
   "id": "a26cf888",
   "metadata": {},
   "outputs": [],
   "source": [
    "import pandas as pd"
   ]
  },
  {
   "cell_type": "markdown",
   "id": "d4dc0394",
   "metadata": {},
   "source": []
  },
  {
   "cell_type": "code",
   "execution_count": null,
   "id": "b50b1495",
   "metadata": {},
   "outputs": [],
   "source": [
    "datos = pd.read_csv('data/Casos_Diarios_Estado_Nacional_Confirmados_20220430.csv')"
   ]
  },
  {
   "cell_type": "code",
   "execution_count": null,
   "id": "45a32a0a",
   "metadata": {
    "scrolled": false
   },
   "outputs": [],
   "source": [
    "datos"
   ]
  },
  {
   "cell_type": "code",
   "execution_count": null,
   "id": "31508c4a",
   "metadata": {},
   "outputs": [],
   "source": [
    "datos = datos.transpose()[2:]"
   ]
  },
  {
   "cell_type": "code",
   "execution_count": null,
   "id": "5dcdcdaf",
   "metadata": {},
   "outputs": [],
   "source": [
    "datos"
   ]
  },
  {
   "cell_type": "code",
   "execution_count": null,
   "id": "c828929c",
   "metadata": {},
   "outputs": [],
   "source": [
    "datos.columns = pd.Index(datos.iloc[0])"
   ]
  },
  {
   "cell_type": "code",
   "execution_count": null,
   "id": "dc96443f",
   "metadata": {},
   "outputs": [],
   "source": [
    "datos"
   ]
  },
  {
   "cell_type": "code",
   "execution_count": null,
   "id": "624f5504",
   "metadata": {},
   "outputs": [],
   "source": [
    "datos = datos[1:]"
   ]
  },
  {
   "cell_type": "code",
   "execution_count": null,
   "id": "267aa4e4",
   "metadata": {},
   "outputs": [],
   "source": [
    "datos"
   ]
  },
  {
   "cell_type": "code",
   "execution_count": null,
   "id": "ebb0c833",
   "metadata": {},
   "outputs": [],
   "source": [
    "datos = datos.astype(int)"
   ]
  },
  {
   "cell_type": "code",
   "execution_count": null,
   "id": "c43c3e89",
   "metadata": {
    "scrolled": true
   },
   "outputs": [],
   "source": [
    "datos.reset_index(inplace=True)"
   ]
  },
  {
   "cell_type": "code",
   "execution_count": null,
   "id": "0fa682dc",
   "metadata": {},
   "outputs": [],
   "source": [
    "datos"
   ]
  },
  {
   "cell_type": "code",
   "execution_count": null,
   "id": "2d4fb361",
   "metadata": {},
   "outputs": [],
   "source": [
    "datos['index'] = pd.to_datetime(datos['index'], format=\"%d-%m-%Y\")"
   ]
  },
  {
   "cell_type": "code",
   "execution_count": null,
   "id": "899a6ba8",
   "metadata": {},
   "outputs": [],
   "source": [
    "datos['index']"
   ]
  },
  {
   "cell_type": "code",
   "execution_count": null,
   "id": "76bb5903",
   "metadata": {},
   "outputs": [],
   "source": [
    "datos.set_index('index', inplace=True)"
   ]
  },
  {
   "cell_type": "code",
   "execution_count": null,
   "id": "3a012679",
   "metadata": {
    "scrolled": false
   },
   "outputs": [],
   "source": [
    "datos"
   ]
  },
  {
   "cell_type": "markdown",
   "id": "039b25dd",
   "metadata": {},
   "source": [
    "https://parquet.apache.org/"
   ]
  },
  {
   "cell_type": "code",
   "execution_count": null,
   "id": "6d6d32bd",
   "metadata": {},
   "outputs": [],
   "source": [
    "!pip install pyarrow"
   ]
  },
  {
   "cell_type": "code",
   "execution_count": null,
   "id": "bfdba233",
   "metadata": {},
   "outputs": [],
   "source": [
    "datos.to_parquet('data/data_covid.parquet')"
   ]
  },
  {
   "cell_type": "code",
   "execution_count": null,
   "id": "26235201",
   "metadata": {},
   "outputs": [],
   "source": [
    "datos.to_csv('data/data_covid.csv')"
   ]
  },
  {
   "cell_type": "code",
   "execution_count": null,
   "id": "891def7b",
   "metadata": {},
   "outputs": [],
   "source": [
    "datos.to_json('data/data_covid.json', indent=True)"
   ]
  },
  {
   "cell_type": "code",
   "execution_count": null,
   "id": "f7754aa8",
   "metadata": {},
   "outputs": [],
   "source": [
    "pd.read_json('data/data_covid.json')"
   ]
  },
  {
   "cell_type": "code",
   "execution_count": null,
   "id": "61ebdfc8",
   "metadata": {},
   "outputs": [],
   "source": [
    "import seaborn as sb"
   ]
  },
  {
   "cell_type": "code",
   "execution_count": null,
   "id": "b393f3f1",
   "metadata": {},
   "outputs": [],
   "source": [
    "sb.lineplot(x=datos.index, y=datos['Nacional'])"
   ]
  },
  {
   "cell_type": "markdown",
   "id": "bed1379b",
   "metadata": {},
   "source": [
    "## Cálculo de promedios."
   ]
  },
  {
   "cell_type": "markdown",
   "id": "4b79be33",
   "metadata": {},
   "source": [
    "```SQL\n",
    "WITH promedios AS\n",
    " (SELECT 2020 as Anio, ROUND(AVG(Nacional), 2) as promedio \n",
    "  FROM `bigquery-demo-349123.demo.covid`\n",
    "  WHERE index BETWEEN TIMESTAMP('2020-01-01') AND TIMESTAMP('2020-12-31')\n",
    "```"
   ]
  },
  {
   "cell_type": "markdown",
   "id": "c3cd98da",
   "metadata": {},
   "source": [
    "```SQL\n",
    "WITH promedios AS\n",
    " (SELECT 2020 as Anio, ROUND(AVG(Nacional), 2) as promedio \n",
    "  FROM `bigquery-demo-349123.demo.covid`\n",
    "  WHERE index BETWEEN TIMESTAMP('2020-01-01') AND TIMESTAMP('2020-12-31')\n",
    "  UNION ALL\n",
    "  SELECT 2021, ROUND(AVG(Nacional), 2)\n",
    "  FROM `bigquery-demo-349123.demo.covid`\n",
    "  WHERE index BETWEEN TIMESTAMP('2021-01-01') AND TIMESTAMP('2021-12-31')\n",
    "  UNION ALL\n",
    "  SELECT 2022, ROUND(AVG(Nacional), 2)\n",
    "  FROM `bigquery-demo-349123.demo.covid`\n",
    "  WHERE index BETWEEN TIMESTAMP('2022-01-01') AND TIMESTAMP('2022-12-31'))\n",
    "SELECT * FROM promedios\n",
    "```"
   ]
  },
  {
   "cell_type": "markdown",
   "id": "af873893",
   "metadata": {},
   "source": [
    "## Datos de 2022. Nacional y Distrito Federal."
   ]
  },
  {
   "cell_type": "markdown",
   "id": "3c6325b9",
   "metadata": {},
   "source": [
    "``` SQL\n",
    "SELECT index, Nacional\n",
    "FROM `bigquery-demo-349123.demo.covid`\n",
    "WHERE EXTRACT(YEAR AS index) = 2022\n",
    "ORDER BY index;\n",
    "```"
   ]
  }
 ],
 "metadata": {
  "kernelspec": {
   "display_name": "Python 3 (ipykernel)",
   "language": "python",
   "name": "python3"
  },
  "language_info": {
   "codemirror_mode": {
    "name": "ipython",
    "version": 3
   },
   "file_extension": ".py",
   "mimetype": "text/x-python",
   "name": "python",
   "nbconvert_exporter": "python",
   "pygments_lexer": "ipython3",
   "version": "3.10.4"
  }
 },
 "nbformat": 4,
 "nbformat_minor": 5
}
