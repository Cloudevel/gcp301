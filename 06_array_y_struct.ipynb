{
 "cells": [
  {
   "cell_type": "markdown",
   "metadata": {},
   "source": [
    "[![pythonista](img/pythonista.png)](https://www.pythonista.io)"
   ]
  },
  {
   "cell_type": "markdown",
   "metadata": {},
   "source": [
    "# Los tipos de datos ```array``` y ```struct```."
   ]
  },
  {
   "cell_type": "markdown",
   "metadata": {},
   "source": [
    "https://console.cloud.google.com/bigquery"
   ]
  },
  {
   "cell_type": "markdown",
   "metadata": {},
   "source": [
    "## El tipo ```array```."
   ]
  },
  {
   "cell_type": "markdown",
   "metadata": {},
   "source": [
    "En *BigQuery*, un arreglo es una lista ordenada que consta de cero o más valores del mismo tipo de datos.\n",
    "\n",
    "Los arreglos son definidos como una sucesión de datos del mismo tipo  separados por comas y delimitados por corchetes ```[``` ```]```.\n",
    "\n",
    "https://cloud.google.com/bigquery/docs/reference/standard-sql/arrays\n"
   ]
  },
  {
   "cell_type": "markdown",
   "metadata": {},
   "source": [
    "**Ejemplos:**"
   ]
  },
  {
   "cell_type": "markdown",
   "metadata": {},
   "source": [
    "``` sql\n",
    "SELECT ['Hugo', 'Paco', 'Luis'] as patos;\n",
    "```"
   ]
  },
  {
   "cell_type": "markdown",
   "metadata": {},
   "source": [
    "``` sql\n",
    "SELECT [] as nada;\n",
    "```"
   ]
  },
  {
   "cell_type": "markdown",
   "metadata": {},
   "source": [
    "``` sql\n",
    "SELECT [1, 2, 3, 4] as numeros;\n",
    "```"
   ]
  },
  {
   "cell_type": "markdown",
   "metadata": {},
   "source": [
    "### Selecccción de elementos en un arreglo.\n",
    "\n",
    "Existen diversos operadores que permiten seleccionar elmentos dentro de un arreglo tales como:\n",
    "\n",
    "* ```OFFSET```, que identifica a un elemento con un índice que empieza en ```0```.\n",
    "* ```ORDINAL```, que identifica a un elemento con un índice que empieza en ```1```.\n",
    "* ```SAFEOFFSET```, que identifica a un elemento con un índice que empieza en ```0``` o ```NULL``` cuando está fuera de rango.\n",
    "* ```SAFEORDINAL```, que identifica a un elemento con un índice que empieza en ```1``` o ```NULL``` cuando está fuera de rango.\n",
    "\n",
    "https://cloud.google.com/bigquery/docs/reference/standard-sql/operators#array_subscript_operator"
   ]
  },
  {
   "cell_type": "markdown",
   "metadata": {},
   "source": [
    "**Ejemplo:**"
   ]
  },
  {
   "cell_type": "markdown",
   "metadata": {},
   "source": [
    "``` sql\n",
    "WITH Items AS (SELECT [\"leche\", \"pan\", \"huevo\"] AS arreglo)\n",
    "SELECT\n",
    "  arreglo,\n",
    "  arreglo[OFFSET(1)] AS item_offset,\n",
    "  arreglo[ORDINAL(1)] AS item_ordinal,\n",
    "  arreglo[SAFE_OFFSET(6)] AS item_safe_offset,\n",
    "FROM Items\n",
    "```"
   ]
  },
  {
   "cell_type": "markdown",
   "metadata": {},
   "source": [
    "### Funciones para arreglos.\n",
    "\n",
    "https://cloud.google.com/bigquery/docs/reference/standard-sql/array_functions"
   ]
  },
  {
   "cell_type": "markdown",
   "metadata": {},
   "source": [
    "## El tipo ```struct```."
   ]
  },
  {
   "cell_type": "markdown",
   "metadata": {},
   "source": [
    "Los tipos ```STRUCT``` se declaran mediante los corchetes angulares ```<```  ```>```. El tipo de elementos de un ```STRUCT``` puede ser arbitrariamente complejo.\n",
    "\n",
    "https://cloud.google.com/bigquery/docs/reference/standard-sql/data-types#declaring_a_struct_type"
   ]
  },
  {
   "cell_type": "markdown",
   "metadata": {},
   "source": [
    "``` sql\n",
    "(\n",
    "SELECT \"Cafe Paci\" AS name, \"Newtown\" AS location,\n",
    "STRUCT([\"European\", \"Casual\", \"Wine bar\"] AS cuisine_array, \"$$$\" AS price_range, False AS has_delivery) AS basic_info\n",
    "UNION ALL\n",
    "SELECT \"Ho Jiak\" AS name, \"Haymarket\" AS location,\n",
    "STRUCT([\"Malaysian\", \"Street-food\"] AS cuisine_array, \"$$\" AS price_range, True AS has_delivery) AS basic_info\n",
    "UNION ALL\n",
    "SELECT \"Spice I Am\" AS name, \"Surry Hills\" AS location,\n",
    "STRUCT([\"Thai\", \"Casual\"] AS cuisine_array, \"$$\" AS price_range, True AS has_delivery) AS basic_info\n",
    "UNION ALL\n",
    "SELECT \"Chaco Bar\" AS name, \"Potts Point\" AS location,\n",
    "STRUCT([\"Japanese\", \"Yakitori\", \"Casual\"] AS cuisine_array, \"$$\" AS price_range, False AS has_delivery) AS basic_info);\n",
    "```"
   ]
  },
  {
   "cell_type": "markdown",
   "metadata": {},
   "source": [
    "### La función ```UNNEST```."
   ]
  },
  {
   "cell_type": "markdown",
   "metadata": {},
   "source": [
    "``` sql\n",
    "SELECT\n",
    "  *\n",
    "FROM\n",
    "  UNNEST([1, 2, 2, 5, NULL]) AS unnest_column\n",
    "```"
   ]
  },
  {
   "cell_type": "markdown",
   "metadata": {},
   "source": [
    "``` sql\n",
    "SELECT\n",
    "  *\n",
    "FROM\n",
    "  UNNEST(\n",
    "       ARRAY<STRUCT<fruit STRING , number INT64>>[\n",
    "         ('apples', 4), ('pears', 6), ('bananas', 2)\n",
    "       ]\n",
    "  )\n",
    "AS simple_table;\n",
    "```"
   ]
  },
  {
   "cell_type": "markdown",
   "metadata": {},
   "source": [
    "<p style=\"text-align: center\"><a rel=\"license\" href=\"http://creativecommons.org/licenses/by/4.0/\"><img alt=\"Licencia Creative Commons\" style=\"border-width:0\" src=\"https://i.creativecommons.org/l/by/4.0/80x15.png\" /></a><br />Esta obra está bajo una <a rel=\"license\" href=\"http://creativecommons.org/licenses/by/4.0/\">Licencia Creative Commons Atribución 4.0 Internacional</a>.</p>\n",
    "<p style=\"text-align: center\">&copy; José Luis Chiquete Valdivieso. 2022.</p>"
   ]
  }
 ],
 "metadata": {
  "kernelspec": {
   "display_name": "Python 3 (ipykernel)",
   "language": "python",
   "name": "python3"
  },
  "language_info": {
   "codemirror_mode": {
    "name": "ipython",
    "version": 3
   },
   "file_extension": ".py",
   "mimetype": "text/x-python",
   "name": "python",
   "nbconvert_exporter": "python",
   "pygments_lexer": "ipython3",
   "version": "3.10.4"
  }
 },
 "nbformat": 4,
 "nbformat_minor": 2
}
