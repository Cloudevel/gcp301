{
 "cells": [
  {
   "cell_type": "markdown",
   "metadata": {},
   "source": [
    "[![pythonista](img/pythonista.png)](https://www.pythonista.io)"
   ]
  },
  {
   "cell_type": "markdown",
   "metadata": {},
   "source": [
    "# Introducción."
   ]
  },
  {
   "cell_type": "markdown",
   "metadata": {},
   "source": [
    "*BigQuery* es la herramienta de analítica de *Google* que aprovecha y separa:\n",
    "\n",
    "* Almacenamiento ([*Colossus*)](https://cloud.google.com/blog/products/storage-data-transfer/a-peek-behind-colossus-googles-file-system).\n",
    "* Procesamiento ([*Dremel*](https://research.google/pubs/pub36632/)).\n",
    "\n",
    "Para poder realizar dichas operaciones por separado en tiempos mínimos se utiliza una red de datos de alta velocidad ([*Jupiter*)](https://cloudplatform.googleblog.com/2015/06/A-Look-Inside-Googles-Data-Center-Networks.html), la cual cuenta con ancho de banda bidireccional de más de *1 Pb/s*. \n",
    "\n",
    "https://cloud.google.com/blog/products/data-analytics/new-blog-series-bigquery-explained-overview"
   ]
  },
  {
   "cell_type": "markdown",
   "metadata": {},
   "source": [
    "<img src=\"img/01/BQ_Explained_2.max-900x900.jpg\">"
   ]
  },
  {
   "cell_type": "markdown",
   "metadata": {},
   "source": [
    "## Google Cloud Platform para datos y analítica."
   ]
  },
  {
   "cell_type": "markdown",
   "metadata": {},
   "source": [
    "### Ciclo de vida de los datos.\n",
    "\n",
    "* Ingesta.\n",
    "* Almacenamiento.\n",
    "* Procesamiento y análisis.\n",
    "* Exploración y visualización.\n",
    "* Modelos predictivos a partir de datos. \n",
    "\n",
    "https://cloud.google.com/architecture/data-lifecycle-cloud-platform"
   ]
  },
  {
   "cell_type": "markdown",
   "metadata": {},
   "source": [
    "<img src=\"img/01/data-lifecycle-1.svg\">"
   ]
  },
  {
   "cell_type": "markdown",
   "metadata": {},
   "source": [
    "## *Data Warehousing*."
   ]
  },
  {
   "cell_type": "markdown",
   "metadata": {},
   "source": [
    "Un *data warehouse* es un tipo de sistema de gestión de datos que es diseñado para habilitar y soportar actividades de *Business Intelligence* (*BI*), particularmente para analítica. Los *data warehouses* son usados primordialmente para realizar consultas (*queries*) mediante *SQL* y análisis que contienen grandes volúmenes de datos históricos de un negocio."
   ]
  },
  {
   "cell_type": "markdown",
   "metadata": {},
   "source": [
    "### *OLAP*.\n",
    "\n",
    "El procesamiento analítico en línea (*OLAP*) se refiere a ciertas tecnologías que organizan grandes bases de datos y soportan análisis complejos. Permiten realizar consultas analíticas complejas sin afectar negativamente a los sistemas transaccionales. *Big Query* Es un sistema *OLAP*."
   ]
  },
  {
   "cell_type": "markdown",
   "metadata": {},
   "source": [
    "### *OLTP*.\n",
    "\n",
    "El Procesamiento de Transacciones En Línea (*OLTP*) se refiere a ciertas tecnologías y herramientas que permiten realizar operaciones altamente transaccionales en bases de datos, tal como es el caso de los sistemas de gestión de bases de datos relacionales (*RDBMS*). *Big Query* NO es un sistema *OLTP*."
   ]
  },
  {
   "cell_type": "markdown",
   "metadata": {},
   "source": [
    "## *Data Lake*. \n",
    "\n",
    "Es un repositorio de almacenamiento centralizado que contienen grandes cantidades de datos provenientes de múltiples fuentes en formato * crudo* y generalmente, no estructurado.  \n",
    "\n",
    "* *Big Query* NO es un *Data Lake*.\n",
    "* *Cloud Storage* es un *Data Lake*. "
   ]
  },
  {
   "cell_type": "markdown",
   "metadata": {},
   "source": [
    "### BigQuery es un sistema de Data Warehouse que realiza operaciones OLAP mediante *queries* basadas en ANSI SQL Estándar."
   ]
  },
  {
   "cell_type": "markdown",
   "metadata": {},
   "source": [
    "### *ETL*, *ELT*, *EL*.\n",
    "\n",
    "Son operaciones de procesamiento de datos donde:\n",
    "\n",
    "* *E* significa \"extraer\". Es decir, adquirir información de una o varias fuentes de datos.\n",
    "    * Por lotes (*batch*). Elementos finitos.\n",
    "    * Por flujo (*stream*). Elementos que no tiene un fin delimitado y son generados/enviados en intervalos generalmente impredecibles.\n",
    "* *L* significa \"cargar\". Es decir, almacenar los elementos en un *data store*.\n",
    "* *T* significa \"transformar\". Es decir, realizar las operaciones necesarias para convertir los datos crudos en datos útiles."
   ]
  },
  {
   "cell_type": "markdown",
   "metadata": {},
   "source": [
    "### *Data Mart*.\n",
    "\n",
    "Un  *data mart* es un almacen de datos relativo a un área, proyecto o interés particular dentro del negocio. *Big Query* es capaz de ofrecer:\n",
    "\n",
    "* [Tablas](https://cloud.google.com/bigquery/docs/tables-intro).\n",
    "* [Vistas](https://cloud.google.com/bigquery/docs/views-intro).\n",
    "* [Sesiones](https://cloud.google.com/bigquery/docs/sessions-intro).\n",
    "\n",
    "Las cuales pueden ser compartidas mediante:\n",
    "\n",
    "* El gestor de identidad y accesos ([*IAM*](https://cloud.google.com/bigquery/docs/access-control)).\n",
    "* [Listas de control de acceso (*ACL*)](https://cloud.google.com/bigquery/docs/table-access-controls-intro#permissions) de tablas.\n",
    "* [Autorización de vistas](https://cloud.google.com/bigquery/docs/authorized-views).\n"
   ]
  },
  {
   "cell_type": "markdown",
   "metadata": {},
   "source": [
    "## Acceso sin costo a *BigQuery*."
   ]
  },
  {
   "cell_type": "markdown",
   "metadata": {},
   "source": [
    "### El *sandbox*.\n",
    "\n",
    "https://cloud.google.com/bigquery/docs/sandbox#get_started_with_the_sandbox\n",
    "\n",
    "https://console.cloud.google.com/bigquery"
   ]
  },
  {
   "cell_type": "markdown",
   "metadata": {},
   "source": [
    "### El nivel gratuito de *GCP*.\n",
    "|\n",
    "https://cloud.google.com/free/"
   ]
  },
  {
   "cell_type": "markdown",
   "metadata": {},
   "source": [
    "## Primera consulta."
   ]
  },
  {
   "cell_type": "markdown",
   "metadata": {},
   "source": [
    "```SQL\n",
    "SELECT \n",
    "  EXTRACT(YEAR FROM creation_date) AS year,\n",
    "  EXTRACT(MONTH FROM creation_date) AS month,\n",
    "  COUNT(creation_date) AS number_posts\n",
    "FROM\n",
    "  `bigquery-public-data.stackoverflow.stackoverflow_posts`\n",
    "WHERE\n",
    "  answer_count > 0\n",
    "GROUP BY year, month\n",
    "ORDER BY year ASC, month ASC;\n",
    "```"
   ]
  },
  {
   "cell_type": "markdown",
   "metadata": {},
   "source": [
    "<p style=\"text-align: center\"><a rel=\"license\" href=\"http://creativecommons.org/licenses/by/4.0/\"><img alt=\"Licencia Creative Commons\" style=\"border-width:0\" src=\"https://i.creativecommons.org/l/by/4.0/80x15.png\" /></a><br />Esta obra está bajo una <a rel=\"license\" href=\"http://creativecommons.org/licenses/by/4.0/\">Licencia Creative Commons Atribución 4.0 Internacional</a>.</p>\n",
    "<p style=\"text-align: center\">&copy; José Luis Chiquete Valdivieso. 2022.</p>"
   ]
  }
 ],
 "metadata": {
  "kernelspec": {
   "display_name": "Python 3 (ipykernel)",
   "language": "python",
   "name": "python3"
  },
  "language_info": {
   "codemirror_mode": {
    "name": "ipython",
    "version": 3
   },
   "file_extension": ".py",
   "mimetype": "text/x-python",
   "name": "python",
   "nbconvert_exporter": "python",
   "pygments_lexer": "ipython3",
   "version": "3.10.12"
  }
 },
 "nbformat": 4,
 "nbformat_minor": 4
}
