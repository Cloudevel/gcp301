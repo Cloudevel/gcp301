{
 "cells": [
  {
   "cell_type": "markdown",
   "metadata": {},
   "source": [
    "[![pythonista](img/pythonista.png)](https://www.pythonista.io)"
   ]
  },
  {
   "cell_type": "markdown",
   "metadata": {},
   "source": [
    "# Tablas, vistas y sesiones."
   ]
  },
  {
   "cell_type": "markdown",
   "metadata": {},
   "source": [
    "##  *Dremel*."
   ]
  },
  {
   "cell_type": "markdown",
   "metadata": {},
   "source": [
    "*Dremel* es el componente principal de analítica de *BigQuery*.\n",
    "\n",
    "*Dremel* es un sistema de consultas (*queries*) escalable hecho explícitamente para el análisis de datos \"anidados\" de sólo lectura. Al combinar árboles de ejecución y una disposición columnar de los datos, es capaz de ejecutar consultas de agregación sobre tablas con billones de renglones en segundos. El sistema es capaz de escalar a miles de *CPUs* y petabytes de datos.\n",
    "\n",
    "Ihttps://research.google/pubs/pub36632/"
   ]
  },
  {
   "cell_type": "markdown",
   "metadata": {},
   "source": [
    "## *Datasets*."
   ]
  },
  {
   "cell_type": "markdown",
   "metadata": {},
   "source": [
    "Los *datasets* son contenedores de nivel superior que se usan para organizar y controlar el acceso a tablas y vistas. Es necesario que dentro de un proyecto de *GCP* exista al menos un conjunto de datos para poder cargar datos en *BigQuery*.\n",
    "\n",
    "https://cloud.google.com/bigquery/docs/datasets-intro?hl=es_419"
   ]
  },
  {
   "cell_type": "markdown",
   "metadata": {},
   "source": [
    "### Creación de un conjunto de datos.\n",
    "\n",
    "https://cloud.google.com/bigquery/docs/datasets?hl=es_419#create-dataset"
   ]
  },
  {
   "cell_type": "markdown",
   "metadata": {},
   "source": [
    "## Tablas."
   ]
  },
  {
   "cell_type": "markdown",
   "metadata": {},
   "source": [
    "Una tabla de *BigQuery* contiene registros individuales organizados en renglones. Cada registro está compuesto por columnas (también llamadas campos).\n",
    "\n",
    "Cada tabla cuenta con un esquema que describe los nombres de las columnas, los tipos de datos y otra información. Es posible especificar el esquema de una tabla cuando es creada, aun cuando también es posible crear una tabla sin un esquema y declarar el esquema en el trabajo de consulta o de carga en el que los datos se propaguen primero.\n",
    "\n",
    "\n",
    "https://cloud.google.com/bigquery/docs/tables-intro?hl=es_419"
   ]
  },
  {
   "cell_type": "markdown",
   "metadata": {},
   "source": [
    "### Tipos de tablas.\n",
    "\n",
    "* Tablas nativas, las cuales se encuentran almacenadas en la infraestructura de *BigQuery*. \n",
    "    * Tablas estándar\n",
    "    * [Clones de tablas](https://cloud.google.com/bigquery/docs/table-clones-intro)\n",
    "    * [Instantáneas de tablas](https://cloud.google.com/bigquery/docs/table-snapshots-intro?hl=es-419)\n",
    "    * [Vistas materializadas](https://cloud.google.com/bigquery/docs/materialized-views-intro?hl=es-419#overview)\n",
    "* [Tablas externas](https://cloud.google.com/bigquery/docs/external-tables?hl=es-419).\n",
    "\n",
    "https://cloud.google.com/bigquery/docs/storage_overview?hl=es-419#table_data"
   ]
  },
  {
   "cell_type": "markdown",
   "metadata": {},
   "source": [
    "## *BigQuery Omni*."
   ]
  },
  {
   "cell_type": "markdown",
   "metadata": {},
   "source": [
    "[*BigQuery Omni*](https://cloud.google.com/bigquery-omni/docs/introduction) es un servicio lanzado muy recientemente, el cual permite crear tablas externas a partir de datos almacenados en *S3* de *AWS* y *Blob Storage* de *Azure*."
   ]
  },
  {
   "cell_type": "markdown",
   "metadata": {},
   "source": [
    "## Vistas."
   ]
  },
  {
   "cell_type": "markdown",
   "metadata": {},
   "source": [
    "Una vista es una tabla virtual definida por una consulta *SQL*. Al crear una vista, las consultas se ejecutan de la misma manera que en una tabla. \n",
    "\n",
    "Cuando un usuario consulta la vista, los resultados solo contienen datos de las tablas y los campos especificados en la consulta definida en la vista.\n",
    "\n",
    "https://cloud.google.com/bigquery/docs/views-intro?hl=es_419"
   ]
  },
  {
   "cell_type": "markdown",
   "metadata": {},
   "source": [
    "## Sesiones."
   ]
  },
  {
   "cell_type": "markdown",
   "metadata": {},
   "source": [
    "Una sesión permite conservar las actividades de consultas *SQL* de *BigQuery*. \n",
    "\n",
    "* Se pueden usar variables y tablas temporales durante la sesión para compilar de forma interactiva una o más consultas. \n",
    "* Pueden haber múltiples sesiones simultáneas y se guarda el historial de cada sesión. \n",
    "* Es posible ver el historial de una sesión hasta 20 días después de que esta haya terminado.\n",
    "\n",
    "https://cloud.google.com/bigquery/docs/sessions-intro"
   ]
  },
  {
   "cell_type": "markdown",
   "metadata": {},
   "source": [
    "## Precios."
   ]
  },
  {
   "cell_type": "markdown",
   "metadata": {},
   "source": [
    "https://cloud.google.com/bigquery/pricing?hl=es-419#query_pricing"
   ]
  },
  {
   "cell_type": "markdown",
   "metadata": {},
   "source": [
    "<p style=\"text-align: center\"><a rel=\"license\" href=\"http://creativecommons.org/licenses/by/4.0/\"><img alt=\"Licencia Creative Commons\" style=\"border-width:0\" src=\"https://i.creativecommons.org/l/by/4.0/80x15.png\" /></a><br />Esta obra está bajo una <a rel=\"license\" href=\"http://creativecommons.org/licenses/by/4.0/\">Licencia Creative Commons Atribución 4.0 Internacional</a>.</p>\n",
    "<p style=\"text-align: center\">&copy; José Luis Chiquete Valdivieso. 2022.</p>"
   ]
  }
 ],
 "metadata": {
  "kernelspec": {
   "display_name": "Python 3 (ipykernel)",
   "language": "python",
   "name": "python3"
  },
  "language_info": {
   "codemirror_mode": {
    "name": "ipython",
    "version": 3
   },
   "file_extension": ".py",
   "mimetype": "text/x-python",
   "name": "python",
   "nbconvert_exporter": "python",
   "pygments_lexer": "ipython3",
   "version": "3.9.7"
  }
 },
 "nbformat": 4,
 "nbformat_minor": 2
}
