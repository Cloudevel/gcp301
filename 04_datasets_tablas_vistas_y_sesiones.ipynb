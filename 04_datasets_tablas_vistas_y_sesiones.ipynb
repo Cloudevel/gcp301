{
 "cells": [
  {
   "cell_type": "markdown",
   "metadata": {},
   "source": [
    "[![pythonista](img/pythonista.png)](https://www.pythonista.io)"
   ]
  },
  {
   "cell_type": "markdown",
   "metadata": {},
   "source": [
    "# Tablas, vistas y sesiones."
   ]
  },
  {
   "cell_type": "markdown",
   "metadata": {},
   "source": [
    "##  *Dremel*."
   ]
  },
  {
   "cell_type": "markdown",
   "metadata": {},
   "source": [
    "*Dremel* es el componente principal de analítica de *BigQuery*.\n",
    "\n",
    "*Dremel* es un sistema de consultas (*queries*) escalable hecho explícitamente para el análisis de datos \"anidados\" de sólo lectura. Al combinar árboles de ejecución y una disposición columnar de los datos, es capaz de ejecutar consultas de agregación sobre tablas con billones de renglones en segundos. El sistema es capaz de escalar a miles de *CPUs* y petabytes de datos.\n",
    "\n",
    "Ihttps://research.google/pubs/pub36632/"
   ]
  },
  {
   "cell_type": "markdown",
   "metadata": {},
   "source": [
    "## *Datasets*."
   ]
  },
  {
   "cell_type": "markdown",
   "metadata": {},
   "source": [
    "Los *datasets* son contenedores de nivel superior que se usan para organizar y controlar el acceso a tablas y vistas. Es necesario que dentro de un proyecto de *GCP* exista al menos un conjunto de datos para poder cargar datos en *BigQuery*.\n",
    "\n",
    "https://cloud.google.com/bigquery/docs/datasets-intro?hl=es_419"
   ]
  },
  {
   "cell_type": "markdown",
   "metadata": {},
   "source": [
    "### Creación de un conjunto de datos.\n",
    "\n",
    "https://cloud.google.com/bigquery/docs/datasets?hl=es_419#create-dataset"
   ]
  },
  {
   "cell_type": "markdown",
   "metadata": {},
   "source": [
    "## Tablas."
   ]
  },
  {
   "cell_type": "markdown",
   "metadata": {},
   "source": [
    "Una tabla de *BigQuery* contiene registros individuales organizados en renglones. Cada registro está compuesto por columnas (también llamadas campos).\n",
    "\n",
    "Cada tabla cuenta con un esquema que describe los nombres de las columnas, los tipos de datos y otra información. Es posible especificar el esquema de una tabla cuando es creada, aun cuando también es posible crear una tabla sin un esquema y declarar el esquema en el trabajo de consulta o de carga en el que los datos se propaguen primero.\n",
    "\n",
    "\n",
    "https://cloud.google.com/bigquery/docs/tables-intro?hl=es_419"
   ]
  },
  {
   "cell_type": "markdown",
   "metadata": {},
   "source": [
    "### Tipos de tablas.\n",
    "\n",
    "#### Tablas nativas.\n",
    "Son tablas que se encuentran almacenadas en la infraestructura de *BigQuery*.\n",
    "\n",
    "**Tablas estándar:**\n",
    "\n",
    "Las **tablas estándar** son el tipo de tabla más básico en BigQuery. Son **inmutables**, lo que significa que una vez que se insertan los datos, no se pueden modificar. Las tablas estándar son ideales para almacenar datos históricos que no necesitan ser actualizados.\n",
    "\n",
    "**Clones de tablas:**\n",
    "\n",
    "Los [**clones de tablas**](https://cloud.google.com/bigquery/docs/table-clones-intro) son **copias ligeras** de las tablas estándar. Son **editables**, lo que significa que puedes modificar los datos después de crearlos. Los clones de tablas son ideales para crear conjuntos de datos de prueba o para trabajar con datos que necesitan ser actualizados con frecuencia.\n",
    "\n",
    "**Vistas materializadas:**\n",
    "\n",
    "Las [**vistas materializadas**](https://cloud.google.com/bigquery/docs/materialized-views-intro?hl=es-419#overview) son **tablas pre-calculadas** que se generan a partir de una consulta SQL. Son **inmutables**, como las tablas estándar, pero se actualizan automáticamente cuando la consulta subyacente cambia. Las vistas materializadas son ideales para mejorar el rendimiento de las consultas que se ejecutan con frecuencia.\n",
    "\n",
    "**Resumen:**\n",
    "\n",
    "| Tipo de tabla | Mutabilidad | Ideal para |\n",
    "|---|---|---|\n",
    "| Tabla estándar | Inmutable | Almacenar datos históricos |\n",
    "| Clon de tabla | Editable | Crear conjuntos de datos de prueba, trabajar con datos que necesitan ser actualizados |\n",
    "| Vista materializada | Inmutable | Mejorar el rendimiento de las consultas que se ejecutan con frecuencia |\n",
    "\n",
    "**Escenarios de uso:**\n",
    "\n",
    "* **Tablas estándar:** Almacenar datos de sensores, registros de aplicaciones, datos financieros históricos.\n",
    "* **Clones de tablas:** Crear conjuntos de datos de prueba para análisis, trabajar con conjuntos de datos que se actualizan con frecuencia.\n",
    "* **Vistas materializadas:** Agrupar datos para análisis, mejorar el rendimiento de las consultas complejas"
   ]
  },
  {
   "cell_type": "markdown",
   "metadata": {},
   "source": [
    "### Tablas externas\n",
    "\n",
    "Las **tablas externas** en BigQuery son una herramienta poderosa que te permite acceder a datos almacenados en **fuentes externas** sin necesidad de cargarlos en BigQuery. Esto puede ser útil para:\n",
    "\n",
    "* **Reducir los costos de almacenamiento**: Al no tener que duplicar los datos en BigQuery, puedes ahorrar espacio y costos.\n",
    "* **Agilizar el acceso a datos**: Puedes acceder a datos en tiempo real sin necesidad de realizar procesos de carga y transformación.\n",
    "* **Mantener la integridad de los datos**: Los datos se mantienen en su ubicación original, lo que reduce el riesgo de errores o inconsistencias.\n",
    "\n",
    "**Tipos de fuentes externas:**\n",
    "\n",
    "BigQuery soporta una amplia variedad de fuentes externas, incluyendo:\n",
    "\n",
    "* **Archivos CSV, JSON, Avro y Parquet** almacenados en Google Cloud Storage (GCS) o en otros proveedores de almacenamiento en la nube.\n",
    "* **Bases de datos** como Cloud SQL, MySQL, PostgreSQL y Oracle.\n",
    "* **Tablas de BigQuery** en otros proyectos o datasets.\n",
    "* **APIs** RESTful.\n",
    "\n",
    "**Creación de una tabla externa:**\n",
    "\n",
    "Para crear una tabla externa, es necesario definir la siguiente información:\n",
    "\n",
    "* **Nombre de la tabla**: El nombre que tendrá la tabla en BigQuery.\n",
    "* **Esquema**: La estructura de la tabla, incluyendo los nombres y tipos de datos de las columnas.\n",
    "* **Ubicación de la fuente de datos**: La ubicación de los datos en la fuente externa.\n",
    "* **Formato de los datos**: El formato de los datos en la fuente externa.\n",
    "\n",
    "**Consultas y análisis:**\n",
    "\n",
    "Una vez que has creado una tabla externa, puedes consultarla y analizarla como si fuera una tabla estándar de BigQuery. Puedes usar todas las funciones y herramientas de BigQuery para trabajar con los datos, incluyendo:\n",
    "\n",
    "* **Consultas SQL**: Puedes usar SQL para seleccionar, filtrar y agrupar datos de la tabla externa.\n",
    "* **Visualizaciones**: Puedes crear visualizaciones de los datos de la tabla externa.\n",
    "* **Machine learning**: Puedes usar los datos de la tabla externa para entrenar modelos de machine learning.\n",
    "\n",
    "**Limitaciones:**\n",
    "\n",
    "Las tablas externas tienen algunas limitaciones:\n",
    "\n",
    "* **No se pueden modificar**: No puedes agregar, eliminar o modificar datos en una tabla externa.\n",
    "* **No se pueden usar en particiones**: No puedes particionar una tabla externa.\n",
    "* **No se pueden usar en snapshots**: No puedes crear snapshots de una tabla externa.\n",
    "\n",
    "https://cloud.google.com/bigquery/docs/external-data-sources?hl=es-419"
   ]
  },
  {
   "cell_type": "markdown",
   "metadata": {},
   "source": [
    "### Creación de tablas.\n",
    "\n",
    "https://cloud.google.com/bigquery/docs/tables"
   ]
  },
  {
   "cell_type": "markdown",
   "metadata": {},
   "source": [
    "https://console.cloud.google.com/bigquery"
   ]
  },
  {
   "cell_type": "markdown",
   "metadata": {},
   "source": [
    "```sql\n",
    "#StandardSQL\n",
    "CREATE TABLE demo_qtop_adicional.tabla_nueva_1 AS (\n",
    "SELECT unique_key AS id, \n",
    "trip_start_timestamp AS inicio, \n",
    "trip_stop_timestamp AS fin,\n",
    "company,\n",
    "trip_total\n",
    "FROM\n",
    "  `bigquery-public-data.chicago_taxi_trips.taxi_trips`\n",
    "  WHERE trip_total > 500 AND \n",
    "  company IS NOT NULL AND \n",
    "  EXTRACT(YEAR FROM\n",
    "    trip_start_timestamp) = 2017\n",
    "  ORDER BY company DESC, inicio);\n",
    "```"
   ]
  },
  {
   "cell_type": "markdown",
   "metadata": {},
   "source": [
    "### Particionamiento de tablas.\n",
    "\n",
    "BigQuery permite particionar una tabla para mejorar el rendimiento de las consultas. Cuando una tabla es particionada, esta se divide en subconjuntos más pequeños de datos basados en una columna específica, llamada **columna de partición**. \n",
    "\n",
    "**Tipos de particiones:**\n",
    "\n",
    "* **Particiones por tiempo:** Se basan en una columna de tipo DATE o TIMESTAMP. Puedes particionar por año, mes, día, hora, etc.\n",
    "* **Particiones por rango:** Se basan en una columna de tipo NUMERIC. Puedes particionar por rangos de valores, como por ejemplo, 0-100, 101-200, etc.\n",
    "* **Particiones por hash:** Se basan en una función hash que se aplica a una o más columnas. Esta técnica es útil para distribuir uniformemente los datos entre las particiones.\n",
    "\n",
    "**Beneficios de particionar una tabla:**\n",
    "\n",
    "* **Mejor rendimiento de las consultas:** BigQuery solo necesita escanear las particiones que son relevantes para la consulta, lo que reduce el tiempo de ejecución.\n",
    "* **Escalabilidad:** Las particiones te permiten escalar tu tabla a medida que aumenta la cantidad de datos.\n",
    "* **Facilidad de administración:** Puedes eliminar particiones antiguas para liberar espacio de almacenamiento.\n",
    "\n",
    "**Cómo particionar una tabla:**\n",
    "\n",
    "Es posible particionar una tabla al crearla o después de que se haya creado.\n",
    "\n",
    "**Al crear la tabla:**\n",
    "\n",
    "1. Usar la cláusula `PARTITION BY` en la sentencia `CREATE TABLE`.\n",
    "2. Especificar la columna de partición y el tipo de partición.\n",
    "\n",
    "**Ejemplo:**\n",
    "\n",
    "```sql\n",
    "CREATE TABLE mydataset.mytable (\n",
    "  id INT64,\n",
    "  fecha DATE\n",
    ")\n",
    "PARTITION BY fecha;\n",
    "```\n",
    "\n",
    "**Después de crear la tabla:**\n",
    "\n",
    "1. Usar la sentencia `ALTER TABLE`.\n",
    "2. Agregar la cláusula `PARTITION BY`.\n",
    "\n",
    "**Ejemplo:**\n",
    "\n",
    "```sql\n",
    "ALTER TABLE mydataset.mytable\n",
    "PARTITION BY fecha;\n",
    "```\n",
    "\n",
    "* https://cloud.google.com/bigquery/docs/partitioned-tables\n",
    "* https://cloud.google.com/bigquery/docs/creating-partitioned-tables"
   ]
  },
  {
   "cell_type": "markdown",
   "metadata": {},
   "source": [
    "## Vistas."
   ]
  },
  {
   "cell_type": "markdown",
   "metadata": {},
   "source": [
    "Una vista es una tabla virtual definida por una consulta *SQL*. Al crear una vista, las consultas se ejecutan de la misma manera que en una tabla. \n",
    "\n",
    "Cuando un usuario consulta la vista, los resultados solo contienen datos de las tablas y los campos especificados en la consulta definida en la vista.\n",
    "\n",
    "https://cloud.google.com/bigquery/docs/views-intro?hl=es_419"
   ]
  },
  {
   "cell_type": "markdown",
   "metadata": {},
   "source": [
    "### Creación de vistas."
   ]
  },
  {
   "cell_type": "markdown",
   "metadata": {},
   "source": [
    "```sql\n",
    "CREATE VIEW <DATASET>.vista_nueva AS (\n",
    "SELECT unique_key AS id, \n",
    "trip_start_timestamp AS inicio, \n",
    "trip_start_timestamp AS fin,\n",
    "company,\n",
    "trip_total\n",
    "FROM\n",
    "  `bigquery-public-data.chicago_taxi_trips.taxi_trips`\n",
    "  WHERE trip_total > 500 AND \n",
    "  company IS NOT NULL AND \n",
    "  EXTRACT(YEAR FROM\n",
    "    trip_start_timestamp) = 2017\n",
    "  ORDER BY company DESC, inicio);\n",
    "```"
   ]
  },
  {
   "cell_type": "markdown",
   "metadata": {},
   "source": [
    "## Sesiones."
   ]
  },
  {
   "cell_type": "markdown",
   "metadata": {},
   "source": [
    "Una sesión permite conservar las actividades de consultas *SQL* de *BigQuery*. \n",
    "\n",
    "* Se pueden usar variables y tablas temporales durante la sesión para compilar de forma interactiva una o más consultas. \n",
    "* Pueden haber múltiples sesiones simultáneas y se guarda el historial de cada sesión. \n",
    "* Es posible ver el historial de una sesión hasta 20 días después de que esta haya terminado.\n",
    "\n",
    "https://cloud.google.com/bigquery/docs/sessions-intro"
   ]
  },
  {
   "cell_type": "markdown",
   "metadata": {},
   "source": [
    "## *BigQuery Omni*."
   ]
  },
  {
   "cell_type": "markdown",
   "metadata": {},
   "source": [
    "[*BigQuery Omni*](https://cloud.google.com/bigquery-omni/docs/introduction) es un servicio lanzado muy recientemente, el cual permite crear tablas externas a partir de datos almacenados en *S3* de *AWS* y *Blob Storage* de *Azure*."
   ]
  },
  {
   "cell_type": "markdown",
   "metadata": {},
   "source": [
    "## BigLake\n",
    "\n",
    "**BigLake** es un motor de almacenamiento de **Google Cloud** que te permite unificar lagos de datos y almacenes de datos en una única plataforma. Ofrece una interfaz unificada para acceder a tus datos sin importar dónde estén almacenados, su formato o el sistema de almacenamiento subyacente.\n",
    "\n",
    "**Beneficios de BigLake:**\n",
    "\n",
    "* **Simplicidad:** Elimina la necesidad de mover o duplicar datos entre diferentes plataformas.\n",
    "* **Eficiencia:** Reduce los costos y la complejidad de la gestión de datos.\n",
    "* **Flexibilidad:** Te permite trabajar con datos en una variedad de formatos y sistemas de almacenamiento.\n",
    "* **Escalabilidad:** Se adapta a tus necesidades a medida que aumenta la cantidad de datos.\n",
    "* **Seguridad:** Protege tus datos con las funciones de seguridad integradas de Google Cloud.\n",
    "\n",
    "**BigLake permite:**\n",
    "\n",
    "* **Acceder a datos de diferentes fuentes:** Puedes acceder a datos almacenados en BigQuery, AWS S3, Azure Data Lake Store Gen2 y otros sistemas de almacenamiento.\n",
    "* **Aplicar controles de acceso:** Puedes aplicar controles de acceso detallados a tus datos, independientemente de dónde estén almacenados.\n",
    "* **Ejecutar análisis:** Puedes ejecutar análisis en tus datos utilizando herramientas como BigQuery, Spark, Presto y TensorFlow.\n",
    "* **Desarrollar aplicaciones:** Puedes desarrollar aplicaciones que utilizan tus datos.\n",
    "\n",
    "https://cloud.google.com/biglake?hl=es_419\n"
   ]
  },
  {
   "cell_type": "markdown",
   "metadata": {},
   "source": [
    "## Esquema de costos de BigQuery.\n",
    "\n",
    "BigQuery ofrece dos opciones de precios: por consumo y por slot.\n",
    "\n",
    "**Precios por consumo:**\n",
    "\n",
    "* **Almacenamiento:** Se cobra por la cantidad de datos que se almacenan en BigQuery. El precio depende del tipo de almacenamiento que se elija: **de alto rendimiento** o **de bajo costo**.\n",
    "* **Cálculo:** Se cobra por la cantidad de datos que se procesan cuando se ejecutn consultas. El precio depende del tipo de consulta y la cantidad de datos que procesa.\n",
    "* **E/S de red:** Secobra por la cantidad de datos que se transfieren a BigQuery y desde BigQuery.\n",
    "\n",
    "**Precios por slot:**\n",
    "\n",
    "* **Slots:** Se paga por un número determinado de slots por hora. Un slot es una unidad de recursos de computación que se utiliza para ejecutar consultas.\n",
    "* **Almacenamiento:** El almacenamiento es gratuito.\n",
    "* **Cálculo:** No se cobra por el procesamiento de datos.\n",
    "\n",
    "**Consejos para optimizar tus costos de BigQuery:**\n",
    "\n",
    "* **Utilizar las particiones:** Las particiones te permiten dividir tus datos en subconjuntos más pequeños, lo que puede mejorar el rendimiento de las consultas y reducir los costos.\n",
    "* **Comprimir los datos:** La compresión puede reducir el tamaño de tus datos, lo que puede reducir los costos de almacenamiento y de red.\n",
    "* **Utilizar las vistas materializadas:** Las vistas materializadas son tablas pre-calculadas que pueden mejorar el rendimiento de las consultas y reducir los costos.\n",
    "* **Supervisar costos:** Utilizar la herramienta de supervisión de costos de BigQuery para identificar oportunidades de optimización.\n",
    "\n",
    "* https://cloud.google.com/bigquery/pricing?hl=es-419"
   ]
  },
  {
   "cell_type": "markdown",
   "metadata": {},
   "source": [
    "<p style=\"text-align: center\"><a rel=\"license\" href=\"http://creativecommons.org/licenses/by/4.0/\"><img alt=\"Licencia Creative Commons\" style=\"border-width:0\" src=\"https://i.creativecommons.org/l/by/4.0/80x15.png\" /></a><br />Esta obra está bajo una <a rel=\"license\" href=\"http://creativecommons.org/licenses/by/4.0/\">Licencia Creative Commons Atribución 4.0 Internacional</a>.</p>\n",
    "<p style=\"text-align: center\">&copy; José Luis Chiquete Valdivieso. 2022.</p>"
   ]
  }
 ],
 "metadata": {
  "kernelspec": {
   "display_name": "Python 3 (ipykernel)",
   "language": "python",
   "name": "python3"
  },
  "language_info": {
   "codemirror_mode": {
    "name": "ipython",
    "version": 3
   },
   "file_extension": ".py",
   "mimetype": "text/x-python",
   "name": "python",
   "nbconvert_exporter": "python",
   "pygments_lexer": "ipython3",
   "version": "3.10.12"
  }
 },
 "nbformat": 4,
 "nbformat_minor": 4
}
