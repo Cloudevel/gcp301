{
 "cells": [
  {
   "cell_type": "markdown",
   "metadata": {},
   "source": [
    "[![pythonista](img/pythonista.png)](https://www.pythonista.io)"
   ]
  },
  {
   "cell_type": "markdown",
   "metadata": {},
   "source": [
    "# El comando `bq`."
   ]
  },
  {
   "cell_type": "markdown",
   "metadata": {},
   "source": [
    "El comando `bq` es una herramienta de línea de comandos que te permite interactuar con BigQuery desde tu terminal. Te permite realizar una gran variedad de tareas, como:\n",
    "\n",
    "* **Cargar datos**: Puedes cargar datos a BigQuery desde una variedad de fuentes, como archivos CSV, JSON, Avro y Parquet.\n",
    "* **Ejecutar consultas**: Puedes ejecutar consultas SQL para analizar tus datos.\n",
    "* **Administrar datasets**: Puedes crear, eliminar y modificar datasets.\n",
    "* **Administrar tablas**: Puedes crear, eliminar y modificar tablas.\n",
    "* **Controlar permisos**: Puedes otorgar permisos a otros usuarios para acceder a tus datasets y tablas.\n",
    "\n",
    "**Cómo funciona:**\n",
    "\n",
    "El comando `bq` se basa en la API REST de BigQuery. Cuando ejecutas un comando `bq`, este envía una solicitud a la API de BigQuery y recibe una respuesta. La respuesta contiene la información que necesitas o el resultado de la acción que has solicitado.\n",
    "\n",
    "**Ejemplos de uso:**\n",
    "\n",
    "* **Cargar un archivo CSV a BigQuery:**\n",
    "\n",
    "```\n",
    "bq load --source_format=CSV mydataset.mytable gs://my-bucket/data.csv\n",
    "```\n",
    "\n",
    "* **Ejecutar una consulta SQL:**\n",
    "\n",
    "```\n",
    "bq query --destination_table=mydataset.mytable \"SELECT * FROM mydataset.mytable WHERE precio > 100\"\n",
    "```\n",
    "\n",
    "* **Crear un dataset:**\n",
    "\n",
    "```\n",
    "bq mk --dataset mydataset\n",
    "```\n",
    "\n",
    "* **Eliminar una tabla:**\n",
    "\n",
    "```\n",
    "bq rm --table mydataset.mytable\n",
    "```\n",
    "\n",
    "https://cloud.google.com/bigquery/docs/bq-command-line-tool?hl=es-419](https://cloud.google.com/bigquery/docs/bq-command-line-tool"
   ]
  },
  {
   "cell_type": "markdown",
   "metadata": {},
   "source": [
    "<p style=\"text-align: center\"><a rel=\"license\" href=\"http://creativecommons.org/licenses/by/4.0/\"><img alt=\"Licencia Creative Commons\" style=\"border-width:0\" src=\"https://i.creativecommons.org/l/by/4.0/80x15.png\" /></a><br />Esta obra está bajo una <a rel=\"license\" href=\"http://creativecommons.org/licenses/by/4.0/\">Licencia Creative Commons Atribución 4.0 Internacional</a>.</p>\n",
    "<p style=\"text-align: center\">&copy; José Luis Chiquete Valdivieso. 2022.</p>"
   ]
  }
 ],
 "metadata": {
  "kernelspec": {
   "display_name": "Python 3 (ipykernel)",
   "language": "python",
   "name": "python3"
  },
  "language_info": {
   "codemirror_mode": {
    "name": "ipython",
    "version": 3
   },
   "file_extension": ".py",
   "mimetype": "text/x-python",
   "name": "python",
   "nbconvert_exporter": "python",
   "pygments_lexer": "ipython3",
   "version": "3.10.12"
  }
 },
 "nbformat": 4,
 "nbformat_minor": 4
}
